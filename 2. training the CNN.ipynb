{
 "cells": [
  {
   "cell_type": "code",
   "execution_count": 1,
   "metadata": {},
   "outputs": [],
   "source": [
    "import numpy as np\n",
    "\n",
    "#loading the saved numpy arrays in the previous part of the code\n",
    "data=np.load('data.npy')\n",
    "target=np.load('target.npy')\n"
   ]
  },
  {
   "cell_type": "code",
   "execution_count": 2,
   "metadata": {},
   "outputs": [
    {
     "name": "stderr",
     "output_type": "stream",
     "text": [
      "Using TensorFlow backend.\n",
      "WARNING: Logging before flag parsing goes to stderr.\n",
      "W0704 18:44:19.380525 20824 deprecation_wrapper.py:119] From C:\\Users\\MritunjayChoubey\\Anaconda3\\lib\\site-packages\\keras\\backend\\tensorflow_backend.py:4070: The name tf.nn.max_pool is deprecated. Please use tf.nn.max_pool2d instead.\n",
      "\n"
     ]
    }
   ],
   "source": [
    "from keras.models import Sequential\n",
    "from keras.layers import Dense,Activation,Flatten,Dropout\n",
    "from keras.layers import Conv2D,MaxPooling2D\n",
    "from keras.callbacks import ModelCheckpoint\n",
    "\n",
    "model=Sequential()\n",
    "\n",
    "#The first CNN layer followed by Relu and MaxPooling layers\n",
    "model.add(Conv2D(100,(3,3),input_shape=data.shape[1:]))\n",
    "model.add(Activation('relu'))\n",
    "model.add(MaxPooling2D(pool_size=(2,2)))\n",
    "\n",
    "#The second convolution layer followed by Relu and MaxPooling layers\n",
    "model.add(Conv2D(100,(3,3)))\n",
    "model.add(Activation('relu'))\n",
    "model.add(MaxPooling2D(pool_size=(2,2)))\n",
    "\n",
    "#flattening the data from the second convolution layer \n",
    "model.add(Flatten())\n",
    "\n",
    "model.add(Dropout(0.5))\n",
    "\n",
    "#creating the fully connected layer\n",
    "model.add(Dense(50,activation='relu'))\n",
    "\n",
    "#creating the final output layer\n",
    "model.add(Dense(2,activation='softmax'))\n",
    "\n",
    "#compiling the model\n",
    "model.compile(loss='binary_crossentropy',optimizer='adam',metrics=['accuracy'])"
   ]
  },
  {
   "cell_type": "code",
   "execution_count": 3,
   "metadata": {},
   "outputs": [],
   "source": [
    "#splitting the dataset\n",
    "from sklearn.model_selection import train_test_split\n",
    "\n",
    "train_data,test_data,train_target,test_target=train_test_split(data,target,test_size=0.1)"
   ]
  },
  {
   "cell_type": "code",
   "execution_count": 4,
   "metadata": {},
   "outputs": [
    {
     "name": "stderr",
     "output_type": "stream",
     "text": [
      "W0704 18:44:25.256748 20824 deprecation.py:323] From C:\\Users\\MritunjayChoubey\\Anaconda3\\lib\\site-packages\\tensorflow\\python\\ops\\math_grad.py:1250: add_dispatch_support.<locals>.wrapper (from tensorflow.python.ops.array_ops) is deprecated and will be removed in a future version.\n",
      "Instructions for updating:\n",
      "Use tf.where in 2.0, which has the same broadcast rule as np.where\n",
      "W0704 18:44:26.249159 20824 deprecation_wrapper.py:119] From C:\\Users\\MritunjayChoubey\\Anaconda3\\lib\\site-packages\\keras\\backend\\tensorflow_backend.py:422: The name tf.global_variables is deprecated. Please use tf.compat.v1.global_variables instead.\n",
      "\n"
     ]
    },
    {
     "name": "stdout",
     "output_type": "stream",
     "text": [
      "Train on 990 samples, validate on 248 samples\n",
      "Epoch 1/30\n",
      "990/990 [==============================] - 43s 44ms/step - loss: 0.7215 - accuracy: 0.5364 - val_loss: 0.6872 - val_accuracy: 0.5282\n",
      "Epoch 2/30\n",
      "990/990 [==============================] - 51s 52ms/step - loss: 0.6544 - accuracy: 0.6172 - val_loss: 0.5784 - val_accuracy: 0.6935\n",
      "Epoch 3/30\n",
      "990/990 [==============================] - 48s 49ms/step - loss: 0.4907 - accuracy: 0.7848 - val_loss: 0.3716 - val_accuracy: 0.8669\n",
      "Epoch 4/30\n",
      "990/990 [==============================] - 45s 45ms/step - loss: 0.3361 - accuracy: 0.8525 - val_loss: 0.2925 - val_accuracy: 0.9113\n",
      "Epoch 5/30\n",
      "990/990 [==============================] - 53s 53ms/step - loss: 0.2571 - accuracy: 0.9040 - val_loss: 0.2534 - val_accuracy: 0.9274\n",
      "Epoch 6/30\n",
      "990/990 [==============================] - 54s 55ms/step - loss: 0.2057 - accuracy: 0.9232 - val_loss: 0.2996 - val_accuracy: 0.8669\n",
      "Epoch 7/30\n",
      "990/990 [==============================] - 42s 42ms/step - loss: 0.1698 - accuracy: 0.9434 - val_loss: 0.2198 - val_accuracy: 0.9315\n",
      "Epoch 8/30\n",
      "990/990 [==============================] - 40s 40ms/step - loss: 0.1311 - accuracy: 0.9545 - val_loss: 0.2045 - val_accuracy: 0.9435\n",
      "Epoch 9/30\n",
      "990/990 [==============================] - 39s 39ms/step - loss: 0.1044 - accuracy: 0.9626 - val_loss: 0.2183 - val_accuracy: 0.9315\n",
      "Epoch 10/30\n",
      "990/990 [==============================] - 43s 44ms/step - loss: 0.0870 - accuracy: 0.9707 - val_loss: 0.1911 - val_accuracy: 0.9395\n",
      "Epoch 11/30\n",
      "990/990 [==============================] - 42s 42ms/step - loss: 0.0867 - accuracy: 0.9737 - val_loss: 0.2212 - val_accuracy: 0.9274\n",
      "Epoch 12/30\n",
      "990/990 [==============================] - 45s 46ms/step - loss: 0.0780 - accuracy: 0.9707 - val_loss: 0.1990 - val_accuracy: 0.9395\n",
      "Epoch 13/30\n",
      "990/990 [==============================] - 41s 42ms/step - loss: 0.0512 - accuracy: 0.9838 - val_loss: 0.1902 - val_accuracy: 0.9395\n",
      "Epoch 14/30\n",
      "990/990 [==============================] - 45s 46ms/step - loss: 0.0698 - accuracy: 0.9717 - val_loss: 0.2087 - val_accuracy: 0.9355\n",
      "Epoch 15/30\n",
      "990/990 [==============================] - 49s 50ms/step - loss: 0.0374 - accuracy: 0.9889 - val_loss: 0.2177 - val_accuracy: 0.9435\n",
      "Epoch 16/30\n",
      "990/990 [==============================] - 42s 42ms/step - loss: 0.0545 - accuracy: 0.9848 - val_loss: 0.2211 - val_accuracy: 0.9355\n",
      "Epoch 17/30\n",
      "990/990 [==============================] - 40s 41ms/step - loss: 0.0441 - accuracy: 0.9838 - val_loss: 0.2159 - val_accuracy: 0.9395\n",
      "Epoch 18/30\n",
      "990/990 [==============================] - 36s 36ms/step - loss: 0.0279 - accuracy: 0.9919 - val_loss: 0.2093 - val_accuracy: 0.9395\n",
      "Epoch 19/30\n",
      "990/990 [==============================] - 36s 36ms/step - loss: 0.0198 - accuracy: 0.9949 - val_loss: 0.2109 - val_accuracy: 0.9435\n",
      "Epoch 20/30\n",
      "990/990 [==============================] - 36s 36ms/step - loss: 0.0265 - accuracy: 0.9899 - val_loss: 0.2308 - val_accuracy: 0.9395\n",
      "Epoch 21/30\n",
      "990/990 [==============================] - 38s 38ms/step - loss: 0.0186 - accuracy: 0.9949 - val_loss: 0.2274 - val_accuracy: 0.9556\n",
      "Epoch 22/30\n",
      "990/990 [==============================] - 37s 38ms/step - loss: 0.0116 - accuracy: 0.9970 - val_loss: 0.2188 - val_accuracy: 0.9395\n",
      "Epoch 23/30\n",
      "990/990 [==============================] - 38s 38ms/step - loss: 0.0124 - accuracy: 0.9960 - val_loss: 0.2353 - val_accuracy: 0.9435\n",
      "Epoch 24/30\n",
      "990/990 [==============================] - 45s 45ms/step - loss: 0.0077 - accuracy: 0.9980 - val_loss: 0.2245 - val_accuracy: 0.9395\n",
      "Epoch 25/30\n",
      "990/990 [==============================] - 44s 45ms/step - loss: 0.0212 - accuracy: 0.9929 - val_loss: 0.2714 - val_accuracy: 0.9395\n",
      "Epoch 26/30\n",
      "990/990 [==============================] - 43s 43ms/step - loss: 0.0173 - accuracy: 0.9939 - val_loss: 0.2697 - val_accuracy: 0.9395\n",
      "Epoch 27/30\n",
      "990/990 [==============================] - 43s 43ms/step - loss: 0.0201 - accuracy: 0.9919 - val_loss: 0.2677 - val_accuracy: 0.9395\n",
      "Epoch 28/30\n",
      "990/990 [==============================] - 40s 41ms/step - loss: 0.0135 - accuracy: 0.9970 - val_loss: 0.2522 - val_accuracy: 0.9435\n",
      "Epoch 29/30\n",
      "990/990 [==============================] - 38s 39ms/step - loss: 0.0340 - accuracy: 0.9828 - val_loss: 0.2747 - val_accuracy: 0.9355\n",
      "Epoch 30/30\n",
      "990/990 [==============================] - 39s 39ms/step - loss: 0.0181 - accuracy: 0.9919 - val_loss: 0.2624 - val_accuracy: 0.9395\n"
     ]
    }
   ],
   "source": [
    "#creating checkpoint\n",
    "checkpoint = ModelCheckpoint('model-{epoch:03d}.model',monitor='val_loss',verbose=0,save_best_only=True,mode='auto')\n",
    "history=model.fit(train_data,train_target,epochs=30,callbacks=[checkpoint],validation_split=0.2)"
   ]
  },
  {
   "cell_type": "code",
   "execution_count": 5,
   "metadata": {},
   "outputs": [
    {
     "data": {
      "image/png": "[encoded data removed]",
      "text/plain": [
       "<Figure size 432x288 with 1 Axes>"
      ]
     },
     "metadata": {
      "needs_background": "light"
     },
     "output_type": "display_data"
    }
   ],
   "source": [
    "from matplotlib import pyplot as plt\n",
    "\n",
    "#plotting the losses\n",
    "plt.plot(history.history['loss'],'r',label='training loss')\n",
    "plt.plot(history.history['val_loss'],label='validation loss')\n",
    "plt.xlabel('# epochs')\n",
    "plt.ylabel('loss')\n",
    "plt.legend()\n",
    "plt.show()"
   ]
  },
  {
   "cell_type": "code",
   "execution_count": 6,
   "metadata": {},
   "outputs": [
    {
     "data": {
      "image/png": "[encoded data removed]",
      "text/plain": [
       "<Figure size 432x288 with 1 Axes>"
      ]
     },
     "metadata": {
      "needs_background": "light"
     },
     "output_type": "display_data"
    }
   ],
   "source": [
    "#plotting the accuracies\n",
    "plt.plot(history.history['accuracy'],'r',label='training accuracy')\n",
    "plt.plot(history.history['val_accuracy'],label='validation accuracy')\n",
    "plt.xlabel('# epochs')\n",
    "plt.ylabel('loss')\n",
    "plt.legend()\n",
    "plt.show()"
   ]
  },
  {
   "cell_type": "code",
   "execution_count": 7,
   "metadata": {},
   "outputs": [
    {
     "name": "stdout",
     "output_type": "stream",
     "text": [
      "138/138 [==============================] - 1s 8ms/step\n",
      "[0.18927490291442128, 0.95652174949646]\n"
     ]
    }
   ],
   "source": [
    "print(model.evaluate(test_data,test_target))"
   ]
  },
  {
   "cell_type": "code",
   "execution_count": null,
   "metadata": {},
   "outputs": [],
   "source": []
  },
  {
   "cell_type": "code",
   "execution_count": null,
   "metadata": {},
   "outputs": [],
   "source": []
  },
  {
   "cell_type": "code",
   "execution_count": null,
   "metadata": {},
   "outputs": [],
   "source": []
  }
 ],
 "metadata": {
  "kernelspec": {
   "display_name": "Python 3",
   "language": "python",
   "name": "python3"
  },
  "language_info": {
   "codemirror_mode": {
    "name": "ipython",
    "version": 3
   },
   "file_extension": ".py",
   "mimetype": "text/x-python",
   "name": "python",
   "nbconvert_exporter": "python",
   "pygments_lexer": "ipython3",
   "version": "3.7.6"
  }
 },
 "nbformat": 4,
 "nbformat_minor": 2
}
